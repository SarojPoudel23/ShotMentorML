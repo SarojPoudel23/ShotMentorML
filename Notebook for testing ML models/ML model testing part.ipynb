{
 "cells": [
  {
   "cell_type": "code",
   "execution_count": 24,
   "id": "bf3f6251-599a-4cb5-ae7e-355abc9536c6",
   "metadata": {},
   "outputs": [],
   "source": [
    "import joblib\n",
    "import pandas as pd\n",
    "from sklearn.preprocessing import StandardScaler\n",
    "import numpy as np\n",
    "from statistics import mode"
   ]
  },
  {
   "cell_type": "code",
   "execution_count": 2,
   "id": "e40310ab-34a5-47f0-ac66-77a60494688a",
   "metadata": {},
   "outputs": [],
   "source": [
    "logistic_regression = joblib.load('logistic_regression_model.joblib')"
   ]
  },
  {
   "cell_type": "code",
   "execution_count": 3,
   "id": "6ca0156d-8bc0-4558-8a13-7f5b9c5a48ee",
   "metadata": {},
   "outputs": [],
   "source": [
    "logistic_regression_scaled = joblib.load('logistic_regression_scaled_model.joblib')"
   ]
  },
  {
   "cell_type": "code",
   "execution_count": 17,
   "id": "6a95dcd5-a423-46bf-ab31-995a545539b0",
   "metadata": {},
   "outputs": [],
   "source": [
    "svm = joblib.load('support_vector_machine_scaled_model.joblib')"
   ]
  },
  {
   "cell_type": "code",
   "execution_count": 11,
   "id": "81edfaa4-b19c-4fd6-ab1c-8196aa291ac4",
   "metadata": {},
   "outputs": [],
   "source": [
    "scaler = joblib.load('scaler.joblib')"
   ]
  },
  {
   "cell_type": "code",
   "execution_count": 8,
   "id": "cf86bfef-a8ce-4907-9ca4-340c9ca0fca4",
   "metadata": {},
   "outputs": [],
   "source": [
    "X_test = pd.read_csv('test/test_9_testing.csv')"
   ]
  },
  {
   "cell_type": "code",
   "execution_count": 12,
   "id": "e59bb2df-727f-4b19-abcb-d44ffd9e7571",
   "metadata": {},
   "outputs": [],
   "source": [
    "X_test_scaled = scaler.transform(X_test)"
   ]
  },
  {
   "cell_type": "code",
   "execution_count": 13,
   "id": "dfb5d99f-41fd-4fed-8fed-ad0b15cf1bce",
   "metadata": {},
   "outputs": [
    {
     "data": {
      "text/plain": [
       "array([2., 2., 2., 2., 2., 2., 2., 2., 2., 2., 2., 2., 2., 2., 2., 2., 2.,\n",
       "       2., 2., 2., 3., 3., 3., 3., 3., 3., 3., 3., 3., 3., 3., 3., 3., 3.,\n",
       "       3., 3., 4., 4., 4., 4., 4., 4., 4., 4., 4., 4., 4., 4., 5., 5., 5.,\n",
       "       5., 5., 5., 5., 5., 5., 5., 5., 5., 5., 5., 5., 5., 5., 5., 5., 5.,\n",
       "       5., 5., 5., 5., 5., 5., 5., 5., 5., 5., 5., 5., 5., 5., 5., 5., 5.,\n",
       "       5., 5., 5., 5., 5., 5., 5., 5., 5., 5., 5., 5., 5., 5., 5., 5., 5.,\n",
       "       5., 5., 5., 5., 5., 4., 4., 3., 3., 3., 2., 2., 2., 2., 2., 2., 2.])"
      ]
     },
     "execution_count": 13,
     "metadata": {},
     "output_type": "execute_result"
    }
   ],
   "source": [
    "logreg = logistic_regression.predict(X_test)\n",
    "logreg"
   ]
  },
  {
   "cell_type": "code",
   "execution_count": 15,
   "id": "0750c38f-8db8-4772-bac6-4e223d8f83c8",
   "metadata": {},
   "outputs": [
    {
     "data": {
      "text/plain": [
       "array([2., 1., 2., 2., 2., 2., 2., 2., 2., 2., 2., 2., 2., 2., 2., 2., 2.,\n",
       "       2., 2., 2., 2., 2., 2., 2., 2., 2., 2., 2., 3., 4., 4., 4., 4., 4.,\n",
       "       4., 4., 4., 4., 4., 4., 4., 4., 4., 4., 4., 4., 4., 4., 4., 4., 4.,\n",
       "       4., 4., 4., 5., 4., 4., 5., 5., 5., 5., 5., 5., 5., 5., 5., 5., 5.,\n",
       "       5., 5., 5., 5., 5., 5., 5., 5., 5., 5., 5., 5., 5., 5., 5., 5., 5.,\n",
       "       5., 5., 5., 5., 5., 5., 5., 5., 5., 5., 5., 5., 5., 5., 5., 5., 5.,\n",
       "       5., 5., 4., 4., 4., 4., 4., 4., 3., 3., 3., 2., 2., 3., 3., 3., 3.])"
      ]
     },
     "execution_count": 15,
     "metadata": {},
     "output_type": "execute_result"
    }
   ],
   "source": [
    "logreg1 = logistic_regression_scaled.predict(X_test_scaled)\n",
    "logreg1"
   ]
  },
  {
   "cell_type": "code",
   "execution_count": 18,
   "id": "f8f74bd3-cbfb-452a-80d0-d2b76852742f",
   "metadata": {},
   "outputs": [
    {
     "data": {
      "text/plain": [
       "array([2., 2., 2., 2., 2., 2., 2., 2., 2., 2., 2., 2., 2., 2., 2., 2., 2.,\n",
       "       2., 2., 2., 2., 3., 3., 3., 3., 3., 3., 3., 3., 3., 3., 3., 3., 3.,\n",
       "       3., 3., 3., 4., 4., 4., 4., 4., 4., 4., 4., 4., 4., 4., 4., 4., 4.,\n",
       "       4., 4., 5., 5., 5., 5., 5., 5., 5., 5., 5., 5., 5., 5., 5., 5., 5.,\n",
       "       5., 5., 5., 5., 5., 5., 5., 5., 5., 5., 5., 5., 5., 5., 5., 5., 5.,\n",
       "       5., 5., 5., 5., 5., 5., 5., 5., 5., 5., 5., 5., 5., 5., 5., 5., 5.,\n",
       "       5., 4., 4., 4., 4., 4., 4., 3., 3., 3., 2., 2., 2., 2., 2., 2., 2.])"
      ]
     },
     "execution_count": 18,
     "metadata": {},
     "output_type": "execute_result"
    }
   ],
   "source": [
    "svm_predict = svm.predict(X_test_scaled)\n",
    "svm_predict"
   ]
  },
  {
   "cell_type": "code",
   "execution_count": 22,
   "id": "89eaba99-0e11-465b-a2aa-a3fed62f7e39",
   "metadata": {},
   "outputs": [],
   "source": [
    "all_predict= np.array([logreg,logreg1,svm_predict])"
   ]
  },
  {
   "cell_type": "code",
   "execution_count": 28,
   "id": "24ca0249-c2ea-4327-b6df-0eb27fdf9022",
   "metadata": {},
   "outputs": [
    {
     "data": {
      "text/plain": [
       "119"
      ]
     },
     "execution_count": 28,
     "metadata": {},
     "output_type": "execute_result"
    }
   ],
   "source": [
    "combined_predict = np.apply_along_axis(mode, axis=0, arr=all_predict)\n",
    "len(combined_predict)"
   ]
  },
  {
   "cell_type": "code",
   "execution_count": 26,
   "id": "196e3f1a-d230-46be-a43f-354ee26cfd2d",
   "metadata": {},
   "outputs": [],
   "source": [
    "predict_9_new = pd.read_csv('test/predict_9.csv')"
   ]
  },
  {
   "cell_type": "code",
   "execution_count": 29,
   "id": "42e2d156-b2b0-4d55-b31b-ec9a5cb20a48",
   "metadata": {},
   "outputs": [],
   "source": [
    "predict_9_new['new_combined']=combined_predict"
   ]
  },
  {
   "cell_type": "code",
   "execution_count": 30,
   "id": "cb1ef665-d82d-4434-9d0a-45ab6d692c2d",
   "metadata": {},
   "outputs": [],
   "source": [
    "predict_9_new.to_csv('test/predict_new_9.csv',index=False)"
   ]
  },
  {
   "cell_type": "code",
   "execution_count": null,
   "id": "6ebb372b-362e-4755-85a3-7a3b7bf7f5c9",
   "metadata": {},
   "outputs": [],
   "source": []
  }
 ],
 "metadata": {
  "kernelspec": {
   "display_name": "Python 3 (ipykernel)",
   "language": "python",
   "name": "python3"
  },
  "language_info": {
   "codemirror_mode": {
    "name": "ipython",
    "version": 3
   },
   "file_extension": ".py",
   "mimetype": "text/x-python",
   "name": "python",
   "nbconvert_exporter": "python",
   "pygments_lexer": "ipython3",
   "version": "3.9.18"
  }
 },
 "nbformat": 4,
 "nbformat_minor": 5
}
